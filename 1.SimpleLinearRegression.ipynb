{
 "cells": [
  {
   "cell_type": "code",
   "execution_count": 2,
   "metadata": {},
   "outputs": [],
   "source": [
    "\"\"\"\n",
    "This script builds a simple linear regression model from scratch using MSE. \n",
    "The dataset I'm using is weather data with MaxTemp and MinTemp and \n",
    "trying to fit a linear relation between the two features.\n",
    "\"\"\"\n",
    "#First import the libraries\n",
    "import pandas as pd\n",
    "import numpy as np\n",
    "import matplotlib.pyplot as plt\n",
    "import seaborn\n",
    "from cmath import sqrt"
   ]
  },
  {
   "cell_type": "code",
   "execution_count": 3,
   "metadata": {},
   "outputs": [
    {
     "data": {
      "text/html": [
       "<div>\n",
       "<style scoped>\n",
       "    .dataframe tbody tr th:only-of-type {\n",
       "        vertical-align: middle;\n",
       "    }\n",
       "\n",
       "    .dataframe tbody tr th {\n",
       "        vertical-align: top;\n",
       "    }\n",
       "\n",
       "    .dataframe thead th {\n",
       "        text-align: right;\n",
       "    }\n",
       "</style>\n",
       "<table border=\"1\" class=\"dataframe\">\n",
       "  <thead>\n",
       "    <tr style=\"text-align: right;\">\n",
       "      <th></th>\n",
       "      <th>MaxTemp</th>\n",
       "      <th>MinTemp</th>\n",
       "    </tr>\n",
       "  </thead>\n",
       "  <tbody>\n",
       "    <tr>\n",
       "      <td>0</td>\n",
       "      <td>25.555556</td>\n",
       "      <td>22.222222</td>\n",
       "    </tr>\n",
       "    <tr>\n",
       "      <td>1</td>\n",
       "      <td>28.888889</td>\n",
       "      <td>21.666667</td>\n",
       "    </tr>\n",
       "    <tr>\n",
       "      <td>2</td>\n",
       "      <td>26.111111</td>\n",
       "      <td>22.222222</td>\n",
       "    </tr>\n",
       "    <tr>\n",
       "      <td>3</td>\n",
       "      <td>26.666667</td>\n",
       "      <td>22.222222</td>\n",
       "    </tr>\n",
       "    <tr>\n",
       "      <td>4</td>\n",
       "      <td>26.666667</td>\n",
       "      <td>21.666667</td>\n",
       "    </tr>\n",
       "  </tbody>\n",
       "</table>\n",
       "</div>"
      ],
      "text/plain": [
       "     MaxTemp    MinTemp\n",
       "0  25.555556  22.222222\n",
       "1  28.888889  21.666667\n",
       "2  26.111111  22.222222\n",
       "3  26.666667  22.222222\n",
       "4  26.666667  21.666667"
      ]
     },
     "execution_count": 3,
     "metadata": {},
     "output_type": "execute_result"
    }
   ],
   "source": [
    "#read the data into a dataframe and see how it looks like\n",
    "data_input = pd.read_csv(\"data/Weather.csv\")\n",
    "data_input.head()"
   ]
  },
  {
   "cell_type": "code",
   "execution_count": 75,
   "metadata": {},
   "outputs": [
    {
     "data": {
      "text/html": [
       "<div>\n",
       "<style scoped>\n",
       "    .dataframe tbody tr th:only-of-type {\n",
       "        vertical-align: middle;\n",
       "    }\n",
       "\n",
       "    .dataframe tbody tr th {\n",
       "        vertical-align: top;\n",
       "    }\n",
       "\n",
       "    .dataframe thead th {\n",
       "        text-align: right;\n",
       "    }\n",
       "</style>\n",
       "<table border=\"1\" class=\"dataframe\">\n",
       "  <thead>\n",
       "    <tr style=\"text-align: right;\">\n",
       "      <th></th>\n",
       "      <th>MaxTemp</th>\n",
       "      <th>MinTemp</th>\n",
       "    </tr>\n",
       "  </thead>\n",
       "  <tbody>\n",
       "    <tr>\n",
       "      <td>count</td>\n",
       "      <td>65534.000000</td>\n",
       "      <td>65534.000000</td>\n",
       "    </tr>\n",
       "    <tr>\n",
       "      <td>mean</td>\n",
       "      <td>26.478215</td>\n",
       "      <td>17.906803</td>\n",
       "    </tr>\n",
       "    <tr>\n",
       "      <td>std</td>\n",
       "      <td>9.632545</td>\n",
       "      <td>8.993936</td>\n",
       "    </tr>\n",
       "    <tr>\n",
       "      <td>min</td>\n",
       "      <td>-33.333333</td>\n",
       "      <td>-38.333333</td>\n",
       "    </tr>\n",
       "    <tr>\n",
       "      <td>25%</td>\n",
       "      <td>26.111111</td>\n",
       "      <td>16.666667</td>\n",
       "    </tr>\n",
       "    <tr>\n",
       "      <td>50%</td>\n",
       "      <td>29.444444</td>\n",
       "      <td>21.111111</td>\n",
       "    </tr>\n",
       "    <tr>\n",
       "      <td>75%</td>\n",
       "      <td>31.111111</td>\n",
       "      <td>23.333333</td>\n",
       "    </tr>\n",
       "    <tr>\n",
       "      <td>max</td>\n",
       "      <td>47.222222</td>\n",
       "      <td>33.888889</td>\n",
       "    </tr>\n",
       "  </tbody>\n",
       "</table>\n",
       "</div>"
      ],
      "text/plain": [
       "            MaxTemp       MinTemp\n",
       "count  65534.000000  65534.000000\n",
       "mean      26.478215     17.906803\n",
       "std        9.632545      8.993936\n",
       "min      -33.333333    -38.333333\n",
       "25%       26.111111     16.666667\n",
       "50%       29.444444     21.111111\n",
       "75%       31.111111     23.333333\n",
       "max       47.222222     33.888889"
      ]
     },
     "execution_count": 75,
     "metadata": {},
     "output_type": "execute_result"
    }
   ],
   "source": [
    "data_input.describe()"
   ]
  },
  {
   "cell_type": "code",
   "execution_count": 76,
   "metadata": {},
   "outputs": [],
   "source": [
    "#Defining X and y from data set\n",
    "X = data_input[\"MaxTemp\"].values.reshape(-1,1)\n",
    "y = data_input[\"MinTemp\"].values.reshape(-1,1)"
   ]
  },
  {
   "cell_type": "code",
   "execution_count": 77,
   "metadata": {},
   "outputs": [
    {
     "data": {
      "text/plain": [
       "Text(0, 0.5, 'MinTemp')"
      ]
     },
     "execution_count": 77,
     "metadata": {},
     "output_type": "execute_result"
    },
    {
     "data": {
      "image/png": "[encoded data removed]",
      "text/plain": [
       "<Figure size 432x288 with 1 Axes>"
      ]
     },
     "metadata": {
      "needs_background": "light"
     },
     "output_type": "display_data"
    }
   ],
   "source": [
    "#lets plot a scatter plot to get an idea on the visual relationship\n",
    "plt.scatter(X,y)\n",
    "plt.xlabel(\"MaxTemp\")\n",
    "plt.ylabel(\"MinTemp\")"
   ]
  },
  {
   "cell_type": "markdown",
   "metadata": {},
   "source": [
    "In the above scatter plot, if you do not see an approximate linear relationship between the two variables, \n",
    "do not proceed with linear regression. Since this looks visually linear, let us proceed with a simple\n",
    "linear regression model. The following are the formulae that we should use: \n",
    "$$\n",
    "y = mx + c\n",
    "$$\n",
    "$$\n",
    "m = \\frac{\\sum_{i=1}^n (x_i-\\mu_x)(y_i-\\mu_y)}{\\sum_{i=1}^n (x_i-\\mu_x)^2} \n",
    "$$\n",
    "$$\n",
    "c = \\mu_y - m*\\mu_x\n",
    "$$\n",
    "m(slope), c(intercept) are the variables to be calculated from test data. For that we need the following statistical information:\n",
    "1. Mean, $\\mu_x = \\frac{\\sum_{i=1}^n x}{n} $\n",
    "2. Variance, $\\sigma^2 = \\sum_{i=1}^n (x_i-\\mu_x)^2 $\n",
    "3. Covariance, $cov(x,y) = \\sum_{i=1}^n (x_i-\\mu_x)(y_i-\\mu_y)$"
   ]
  },
  {
   "cell_type": "code",
   "execution_count": 81,
   "metadata": {},
   "outputs": [],
   "source": [
    "#Define a class for Linear model\n",
    "class LinearModel:\n",
    "    def __init__(self, x, y):\n",
    "        self.x = x\n",
    "        self.y = y\n",
    "        \n",
    "#define a function to split data to test, train assuming 80-20 ratio\n",
    "    def test_train(self,z):\n",
    "        trainlen = round(len(z)*0.8)\n",
    "        ztrain = z[:trainlen]\n",
    "        ztest = z[trainlen:]\n",
    "        return ztrain, ztest\n",
    "    \n",
    "#define the mean, variance and covariance functions\n",
    "    def find_mean(self,z):\n",
    "        return sum(z)/float(len(z))\n",
    "\n",
    "    def find_variance(self,z):\n",
    "        uz = self.find_mean(z)\n",
    "        var = 0\n",
    "        for zt in z:\n",
    "            var += (zt - uz)**2\n",
    "        return var\n",
    "\n",
    "    def find_covariance(self,x,y):\n",
    "        cov = 0\n",
    "        ux = self.find_mean(x)\n",
    "        uy = self.find_mean(y)\n",
    "        for xt, yt in zip(x, y):\n",
    "            cov += (xt - ux) * (yt - uy)\n",
    "        return cov\n",
    "\n",
    "#Now use the above statistical info to find regression coeffiecients\n",
    "    def model_fit(self, x, y):\n",
    "        m = self.find_covariance(x,y)/self.find_variance(x)\n",
    "        c = self.find_mean(y) - m * self.find_mean(x)\n",
    "        return m, c\n",
    "\n",
    "#Use the model parameters to predict on test data \n",
    "    def make_predictions(self, m, c, test):\n",
    "        ypred = []\n",
    "        for x in test:\n",
    "            ypred.append(m * x + c)\n",
    "        return ypred\n",
    "    \n",
    "#finding RMSE\n",
    "    def find_rmse(self, ytest, ypred):\n",
    "        error = 0\n",
    "        for i in range(len(ytest)):\n",
    "            error += (ytest[i] - ypred[i] ** 2)\n",
    "        return sqrt(self.find_mean(error))"
   ]
  },
  {
   "cell_type": "code",
   "execution_count": 83,
   "metadata": {},
   "outputs": [],
   "source": [
    "#Let us fit the regression model and make prediction on our given data set\n",
    "regressor = LinearModel(X,y)\n",
    "xtrain, xtest = regressor.test_train(X)\n",
    "ytrain, ytest = regressor.test_train(y)\n",
    "m, c = regressor.model_fit(xtrain, ytrain)\n",
    "ypred = regressor.make_predictions(m,c,xtest)"
   ]
  },
  {
   "cell_type": "code",
   "execution_count": 85,
   "metadata": {},
   "outputs": [
    {
     "data": {
      "image/png": "[encoded data removed]",
      "text/plain": [
       "<Figure size 432x288 with 1 Axes>"
      ]
     },
     "metadata": {
      "needs_background": "light"
     },
     "output_type": "display_data"
    }
   ],
   "source": [
    "#Plotting the predicted linear model against the original data\n",
    "\n",
    "plt.scatter(xtest, ytest,color=\"gray\")\n",
    "plt.plot(xtest,ypred,color = \"red\", linewidth = 2)\n",
    "plt.show()"
   ]
  },
  {
   "cell_type": "code",
   "execution_count": null,
   "metadata": {},
   "outputs": [],
   "source": []
  }
 ],
 "metadata": {
  "kernelspec": {
   "display_name": "Python 3",
   "language": "python",
   "name": "python3"
  },
  "language_info": {
   "codemirror_mode": {
    "name": "ipython",
    "version": 3
   },
   "file_extension": ".py",
   "mimetype": "text/x-python",
   "name": "python",
   "nbconvert_exporter": "python",
   "pygments_lexer": "ipython3",
   "version": "3.7.4"
  }
 },
 "nbformat": 4,
 "nbformat_minor": 2
}
